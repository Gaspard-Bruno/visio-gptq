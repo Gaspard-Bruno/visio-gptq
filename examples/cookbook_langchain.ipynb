{
 "cells": [
  {
   "cell_type": "code",
   "execution_count": null,
   "metadata": {},
   "outputs": [],
   "source": [
    "from visio_gptq.model import GPTQModel\n",
    "model = GPTQModel(model_name=\"anon8231489123/vicuna-13b-GPTQ-4bit-128g\", device=\"cuda\", wbits=4, groupsize=128)"
   ]
  },
  {
   "cell_type": "code",
   "execution_count": null,
   "metadata": {},
   "outputs": [],
   "source": [
    "from langchain.llms.base import LLM\n",
    "from typing import Optional, List\n",
    "\n",
    "class GPTQModelLLM(LLM):\n",
    "    model: GPTQModel\n",
    "    params: dict = {}\n",
    "\n",
    "    @property\n",
    "    def _llm_type(self) -> str:\n",
    "        return \"gptq_model_llm\"\n",
    "\n",
    "    def callbackFunc(self,txt):\n",
    "        print(txt, end=\" \", flush=True)\n",
    "\n",
    "    def _call(self, prompt:str, stop: Optional[List[str]] = None) -> str:\n",
    "        current_stop = self.params.get(\"stop\", [])\n",
    "        if stop is not None:\n",
    "            current_stop.extend(stop)\n",
    "            self.params[\"stop\"] = current_stop\n",
    "\n",
    "        conv = model.inference(prompt=prompt, **self.params)\n",
    "        if isinstance(conv, str):\n",
    "            return conv\n",
    "        return \"Error\""
   ]
  },
  {
   "cell_type": "code",
   "execution_count": null,
   "metadata": {},
   "outputs": [],
   "source": [
    "from langchain.chains import ConversationChain\n",
    "from langchain.prompts import PromptTemplate\n",
    "llm = GPTQModelLLM(model=model, params={\"temperature\": 0.0, \"stop\":[\"Question:\", \"###\"]})\n",
    "DEFAULT_PROMPT = PromptTemplate(\n",
    "    input_variables=[\"history\",\"input\"],\n",
    "    template=\"The following is a friendly conversation between a human and an AI. The AI is talkative and provides lots of specific details from its context. If the AI does not know the answer to a question, it truthfully says it does not know.\"\n",
    "            \"Current conversation:\"\n",
    "            \"{history}\"\n",
    "            \"### Human: {input}\"\n",
    "            \"### AI:\")\n",
    "conv = ConversationChain(llm=llm, prompt=DEFAULT_PROMPT, verbose=False)"
   ]
  },
  {
   "cell_type": "code",
   "execution_count": null,
   "metadata": {},
   "outputs": [],
   "source": [
    "result = conv.predict(input=\"What is the capital of Portugal?\")\n",
    "print(result)"
   ]
  },
  {
   "cell_type": "code",
   "execution_count": null,
   "metadata": {},
   "outputs": [],
   "source": [
    "result = conv.predict(input=\"and Spain?\")\n",
    "print(result)"
   ]
  },
  {
   "cell_type": "code",
   "execution_count": null,
   "metadata": {},
   "outputs": [],
   "source": [
    "result = conv.predict(input=\"What was my first question?\")\n",
    "print(result)"
   ]
  },
  {
   "cell_type": "code",
   "execution_count": null,
   "metadata": {},
   "outputs": [],
   "source": [
    "from langchain.agents import load_tools, initialize_agent, AgentType\n",
    "import os\n",
    "\n",
    "os.environ[\"SERPAPI_API_KEY\"] = \"YOUR API KEY HERE\"\n",
    "\n",
    "tools_names = [\"serpapi\"]\n",
    "tools = load_tools(tools_names)"
   ]
  },
  {
   "cell_type": "code",
   "execution_count": null,
   "metadata": {},
   "outputs": [],
   "source": [
    "agent = initialize_agent(llm=llm, tools=tools, agent=AgentType.ZERO_SHOT_REACT_DESCRIPTION, verbose=True)"
   ]
  },
  {
   "cell_type": "code",
   "execution_count": null,
   "metadata": {},
   "outputs": [],
   "source": [
    "agent.run(\"What is LangChain?\")"
   ]
  },
  {
   "cell_type": "code",
   "execution_count": null,
   "metadata": {},
   "outputs": [],
   "source": [
    "agent.run(\"who is the ceo of pipe?\")"
   ]
  },
  {
   "cell_type": "code",
   "execution_count": null,
   "metadata": {},
   "outputs": [],
   "source": [
    "agent.run(\"What is the cheapest house in portugal?\")"
   ]
  }
 ],
 "metadata": {
  "kernelspec": {
   "display_name": "vicuna",
   "language": "python",
   "name": "python3"
  },
  "language_info": {
   "codemirror_mode": {
    "name": "ipython",
    "version": 3
   },
   "file_extension": ".py",
   "mimetype": "text/x-python",
   "name": "python",
   "nbconvert_exporter": "python",
   "pygments_lexer": "ipython3",
   "version": "3.10.10"
  },
  "orig_nbformat": 4
 },
 "nbformat": 4,
 "nbformat_minor": 2
}
