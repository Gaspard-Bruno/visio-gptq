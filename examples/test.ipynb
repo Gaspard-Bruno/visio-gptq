{
 "cells": [
  {
   "cell_type": "code",
   "execution_count": 1,
   "metadata": {},
   "outputs": [
    {
     "name": "stdout",
     "output_type": "stream",
     "text": [
      "Loading model ...\n"
     ]
    },
    {
     "name": "stderr",
     "output_type": "stream",
     "text": [
      "/home/marcojoao/mambaforge/envs/vicuna/lib/python3.10/site-packages/safetensors/torch.py:99: UserWarning: TypedStorage is deprecated. It will be removed in the future and UntypedStorage will be the only storage class. This should only matter to you if you are using storages directly.  To access UntypedStorage directly, use tensor.untyped_storage() instead of tensor.storage()\n",
      "  with safe_open(filename, framework=\"pt\", device=device) as f:\n",
      "/home/marcojoao/mambaforge/envs/vicuna/lib/python3.10/site-packages/torch/_utils.py:776: UserWarning: TypedStorage is deprecated. It will be removed in the future and UntypedStorage will be the only storage class. This should only matter to you if you are using storages directly.  To access UntypedStorage directly, use tensor.untyped_storage() instead of tensor.storage()\n",
      "  return self.fget.__get__(instance, owner)()\n",
      "/home/marcojoao/mambaforge/envs/vicuna/lib/python3.10/site-packages/torch/storage.py:899: UserWarning: TypedStorage is deprecated. It will be removed in the future and UntypedStorage will be the only storage class. This should only matter to you if you are using storages directly.  To access UntypedStorage directly, use tensor.untyped_storage() instead of tensor.storage()\n",
      "  storage = cls(wrap_storage=untyped_storage)\n"
     ]
    },
    {
     "name": "stdout",
     "output_type": "stream",
     "text": [
      "Done.\n"
     ]
    }
   ],
   "source": [
    "from src.model import GPTQModel\n",
    "\n",
    "model = GPTQModel(model_name=\"/data/repos/visio-gptq/models/vicuna-13b-GPTQ-4bit-128g\", device=\"cuda\", wbits=4, groupsize=128)"
   ]
  },
  {
   "cell_type": "code",
   "execution_count": 1,
   "metadata": {},
   "outputs": [],
   "source": [
    "from src.conversation import Conversation, SeparatorStyle\n",
    "\n",
    "default_conv = Conversation(\n",
    "    system=\"A chat between a curious human and an artificial intelligence assistant. \"\n",
    "           \"The assistant gives helpful, detailed, and polite answers to the human's questions.\",\n",
    "    roles=[\"Human\", \"Assistant\"],\n",
    "    messages=[\n",
    "        [\"Human\", \"Give three tips for staying healthy.\"],\n",
    "        [\"Assistant\",\n",
    "            \"Sure, here are three tips for staying healthy:\\n\"\n",
    "            \"1. Exercise regularly: Regular physical activity can help improve your overall health and wellbeing. \"\n",
    "            \"It can also help reduce your risk of chronic conditions such as obesity, diabetes, heart disease, \"\n",
    "            \"and certain cancers. Aim for at least 150 minutes of moderate-intensity aerobic exercise or \"\n",
    "            \"75 minutes of vigorous-intensity aerobic exercise per week, along with muscle-strengthening \"\n",
    "            \"activities at least two days per week.\\n\"\n",
    "            \"2. Eat a balanced diet: Eating a balanced diet that is rich in fruits, \"\n",
    "            \"vegetables, whole grains, lean proteins, and healthy fats can help support \"\n",
    "            \"your overall health. Try to limit your intake of processed and high-sugar foods, \"\n",
    "            \"and aim to drink plenty of water throughout the day.\\n\"\n",
    "            \"3. Get enough sleep: Getting enough quality sleep is essential for your physical \"\n",
    "            \"and mental health. Adults should aim for seven to nine hours of sleep per night. \"\n",
    "            \"Establish a regular sleep schedule and try to create a relaxing bedtime routine to \"\n",
    "            \"help improve the quality of your sleep.\"]\n",
    "    ],\n",
    "    offset=2,\n",
    "    sep_style=SeparatorStyle.SINGLE,\n",
    "    sep=\"###\",\n",
    ")"
   ]
  },
  {
   "cell_type": "code",
   "execution_count": 2,
   "metadata": {},
   "outputs": [
    {
     "ename": "NameError",
     "evalue": "name 'model' is not defined",
     "output_type": "error",
     "traceback": [
      "\u001b[0;31m---------------------------------------------------------------------------\u001b[0m",
      "\u001b[0;31mNameError\u001b[0m                                 Traceback (most recent call last)",
      "\u001b[1;32m/data/repos/visio-gptq/test.ipynb Cell 3\u001b[0m in \u001b[0;36m5\n\u001b[1;32m      <a href='vscode-notebook-cell://ssh-remote%2B7b22686f73744e616d65223a224d6172636f2d5043227d/data/repos/visio-gptq/test.ipynb#W2sdnNjb2RlLXJlbW90ZQ%3D%3D?line=2'>3</a>\u001b[0m \u001b[39mdef\u001b[39;00m \u001b[39mcallbackFunc\u001b[39m(s):\n\u001b[1;32m      <a href='vscode-notebook-cell://ssh-remote%2B7b22686f73744e616d65223a224d6172636f2d5043227d/data/repos/visio-gptq/test.ipynb#W2sdnNjb2RlLXJlbW90ZQ%3D%3D?line=3'>4</a>\u001b[0m     \u001b[39mprint\u001b[39m(s, end\u001b[39m=\u001b[39m\u001b[39m\"\u001b[39m\u001b[39m \u001b[39m\u001b[39m\"\u001b[39m, flush\u001b[39m=\u001b[39m\u001b[39mTrue\u001b[39;00m)\n\u001b[0;32m----> <a href='vscode-notebook-cell://ssh-remote%2B7b22686f73744e616d65223a224d6172636f2d5043227d/data/repos/visio-gptq/test.ipynb#W2sdnNjb2RlLXJlbW90ZQ%3D%3D?line=4'>5</a>\u001b[0m my_conv \u001b[39m=\u001b[39m model\u001b[39m.\u001b[39minference(prompt\u001b[39m=\u001b[39m\u001b[39m\"\u001b[39m\u001b[39mExplain how do blackholes work?\u001b[39m\u001b[39m\"\u001b[39m, conversation\u001b[39m=\u001b[39mmy_conv, temperature\u001b[39m=\u001b[39m\u001b[39m0.0\u001b[39m, stream_callback\u001b[39m=\u001b[39mcallbackFunc)\n",
      "\u001b[0;31mNameError\u001b[0m: name 'model' is not defined"
     ]
    }
   ],
   "source": [
    "my_conv = default_conv.copy()\n",
    "\n",
    "def callbackFunc(s):\n",
    "    print(s, end=\" \", flush=True)\n",
    "my_conv = model.inference(prompt=\"Explain how do blackholes work?\", conversation=my_conv, temperature=0.0, stream_callback=callbackFunc)\n",
    "\n",
    "\n",
    "#print(my_conv.last_message)"
   ]
  }
 ],
 "metadata": {
  "kernelspec": {
   "display_name": "gptq",
   "language": "python",
   "name": "python3"
  },
  "language_info": {
   "codemirror_mode": {
    "name": "ipython",
    "version": 3
   },
   "file_extension": ".py",
   "mimetype": "text/x-python",
   "name": "python",
   "nbconvert_exporter": "python",
   "pygments_lexer": "ipython3",
   "version": "3.10.10"
  },
  "orig_nbformat": 4
 },
 "nbformat": 4,
 "nbformat_minor": 2
}
