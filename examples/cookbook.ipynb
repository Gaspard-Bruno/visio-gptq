{
 "cells": [
  {
   "cell_type": "code",
   "execution_count": 1,
   "metadata": {},
   "outputs": [
    {
     "name": "stdout",
     "output_type": "stream",
     "text": [
      "Loading model ...\n"
     ]
    },
    {
     "name": "stderr",
     "output_type": "stream",
     "text": [
      "/home/marcojoao/mambaforge/envs/vicuna/lib/python3.10/site-packages/safetensors/torch.py:99: UserWarning: TypedStorage is deprecated. It will be removed in the future and UntypedStorage will be the only storage class. This should only matter to you if you are using storages directly.  To access UntypedStorage directly, use tensor.untyped_storage() instead of tensor.storage()\n",
      "  with safe_open(filename, framework=\"pt\", device=device) as f:\n",
      "/home/marcojoao/mambaforge/envs/vicuna/lib/python3.10/site-packages/torch/_utils.py:776: UserWarning: TypedStorage is deprecated. It will be removed in the future and UntypedStorage will be the only storage class. This should only matter to you if you are using storages directly.  To access UntypedStorage directly, use tensor.untyped_storage() instead of tensor.storage()\n",
      "  return self.fget.__get__(instance, owner)()\n",
      "/home/marcojoao/mambaforge/envs/vicuna/lib/python3.10/site-packages/torch/storage.py:899: UserWarning: TypedStorage is deprecated. It will be removed in the future and UntypedStorage will be the only storage class. This should only matter to you if you are using storages directly.  To access UntypedStorage directly, use tensor.untyped_storage() instead of tensor.storage()\n",
      "  storage = cls(wrap_storage=untyped_storage)\n"
     ]
    },
    {
     "name": "stdout",
     "output_type": "stream",
     "text": [
      "Done.\n"
     ]
    }
   ],
   "source": [
    "from visio_gptq.model import GPTQModel\n",
    "model = GPTQModel(model_name=\"TheBloke/wizardLM-7B-GPTQ\", device=\"cuda\", wbits=4, groupsize=128)"
   ]
  },
  {
   "cell_type": "code",
   "execution_count": 2,
   "metadata": {},
   "outputs": [],
   "source": [
    "from visio_gptq.conversation import Conversation, SeparatorStyle\n",
    "\n",
    "default_conv = Conversation(\n",
    "    system=\"A chat between a curious human and an artificial intelligence assistant. \"\n",
    "           \"The assistant gives helpful, detailed, and polite answers to the human's questions.\",\n",
    "    roles=[\"Human\", \"Assistant\"],\n",
    "    messages=[\n",
    "        [\"Human\", \"Give three tips for staying healthy.\"],\n",
    "        [\"Assistant\",\n",
    "            \"Sure, here are three tips for staying healthy:\"\n",
    "            \"1. Exercise regularly: Regular physical activity can help improve your overall health and wellbeing. It can also help reduce your risk of chronic conditions such as obesity, diabetes, heart disease, and certain cancers. Aim for at least 150 minutes of moderate-intensity aerobic exercise or 75 minutes of vigorous-intensity aerobic exercise per week, along with muscle-strengthening activities at least two days per week.\"\n",
    "            \"2. Eat a balanced diet: Eating a balanced diet that is rich in fruits, vegetables, whole grains, lean proteins, and healthy fats can help support your overall health. Try to limit your intake of processed and high-sugar foods, and aim to drink plenty of water throughout the day.\"\n",
    "            \"3. Get enough sleep: Getting enough quality sleep is essential for your physical and mental health. Adults should aim for seven to nine hours of sleep per night. Establish a regular sleep schedule and try to create a relaxing bedtime routine to help improve the quality of your sleep.\"]\n",
    "    ],\n",
    "    offset=2,\n",
    "    sep_style=SeparatorStyle.SINGLE,\n",
    "    sep=\"###\",\n",
    ")"
   ]
  },
  {
   "cell_type": "code",
   "execution_count": 3,
   "metadata": {},
   "outputs": [
    {
     "name": "stdout",
     "output_type": "stream",
     "text": [
      " A healthy diet is one that provides a variety of nutrient-dense foods, including fruits, vegetables, whole grains, lean proteins, and healthy fats. An unhealthy diet is one that is high in processed and high-sugar foods, saturated and trans fats, and low in essential nutrients. A healthy diet can help reduce your risk of chronic conditions such as heart disease, diabetes, and certain cancers.\n"
     ]
    }
   ],
   "source": [
    "my_conv = default_conv.copy()\n",
    "my_conv.append_message(my_conv.roles[0], \"Explain the difference between a healthy and an unhealthy diet.\")\n",
    "my_conv.append_message(my_conv.roles[1], None)\n",
    "prompt = my_conv.get_prompt()\n",
    "\n",
    "result = model.generate(prompt=prompt)\n",
    "print(result)"
   ]
  },
  {
   "cell_type": "code",
   "execution_count": 8,
   "metadata": {},
   "outputs": [
    {
     "name": "stdout",
     "output_type": "stream",
     "text": [
      "A healthy diet is one that provides the body with essential nutrients, such as vitamins, minerals, and fiber, in sufficient amounts. An unhealthy diet is one that provides an excess of unhealthy fats, sugars, and processed foods, and is often lacking in essential nutrients. An unhealthy diet is associated with an increased risk of chronic conditions such as heart disease, diabetes, and certain cancers. "
     ]
    }
   ],
   "source": [
    "my_conv = default_conv.copy()\n",
    "my_conv.append_message(my_conv.roles[0], \"Explain the difference between a healthy and an unhealthy diet.\")\n",
    "my_conv.append_message(my_conv.roles[1], None)\n",
    "prompt = my_conv.get_prompt()\n",
    "generator = model.generate_stream(prompt=prompt)\n",
    "\n",
    "for result in generator:\n",
    "    print(result, end=\" \", flush=True)"
   ]
  },
  {
   "cell_type": "code",
   "execution_count": null,
   "metadata": {},
   "outputs": [],
   "source": [
    "my_conv = default_conv.copy()\n",
    "\n",
    "my_conv.append_message(my_conv.roles[0], \"What was my 1st question?\")\n",
    "my_conv.append_message(my_conv.roles[1], None)\n",
    "prompt = my_conv.get_prompt()\n",
    "\n",
    "\n",
    "for output in model.generate_stream(prompt=prompt):\n",
    "    print(output, end=\"\", flush=True)"
   ]
  }
 ],
 "metadata": {
  "kernelspec": {
   "display_name": "gptq",
   "language": "python",
   "name": "python3"
  },
  "language_info": {
   "codemirror_mode": {
    "name": "ipython",
    "version": 3
   },
   "file_extension": ".py",
   "mimetype": "text/x-python",
   "name": "python",
   "nbconvert_exporter": "python",
   "pygments_lexer": "ipython3",
   "version": "3.10.10"
  },
  "orig_nbformat": 4
 },
 "nbformat": 4,
 "nbformat_minor": 2
}
