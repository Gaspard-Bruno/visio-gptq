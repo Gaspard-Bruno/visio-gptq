{
 "cells": [
  {
   "cell_type": "code",
   "execution_count": 1,
   "metadata": {},
   "outputs": [
    {
     "name": "stderr",
     "output_type": "stream",
     "text": [
      "/home/marcojoao/mambaforge/envs/vicuna/lib/python3.10/site-packages/tqdm/auto.py:21: TqdmWarning: IProgress not found. Please update jupyter and ipywidgets. See https://ipywidgets.readthedocs.io/en/stable/user_install.html\n",
      "  from .autonotebook import tqdm as notebook_tqdm\n"
     ]
    },
    {
     "name": "stdout",
     "output_type": "stream",
     "text": [
      "Loading model ...\n"
     ]
    },
    {
     "name": "stderr",
     "output_type": "stream",
     "text": [
      "/home/marcojoao/mambaforge/envs/vicuna/lib/python3.10/site-packages/safetensors/torch.py:99: UserWarning: TypedStorage is deprecated. It will be removed in the future and UntypedStorage will be the only storage class. This should only matter to you if you are using storages directly.  To access UntypedStorage directly, use tensor.untyped_storage() instead of tensor.storage()\n",
      "  with safe_open(filename, framework=\"pt\", device=device) as f:\n",
      "/home/marcojoao/mambaforge/envs/vicuna/lib/python3.10/site-packages/torch/_utils.py:776: UserWarning: TypedStorage is deprecated. It will be removed in the future and UntypedStorage will be the only storage class. This should only matter to you if you are using storages directly.  To access UntypedStorage directly, use tensor.untyped_storage() instead of tensor.storage()\n",
      "  return self.fget.__get__(instance, owner)()\n",
      "/home/marcojoao/mambaforge/envs/vicuna/lib/python3.10/site-packages/torch/storage.py:899: UserWarning: TypedStorage is deprecated. It will be removed in the future and UntypedStorage will be the only storage class. This should only matter to you if you are using storages directly.  To access UntypedStorage directly, use tensor.untyped_storage() instead of tensor.storage()\n",
      "  storage = cls(wrap_storage=untyped_storage)\n"
     ]
    },
    {
     "name": "stdout",
     "output_type": "stream",
     "text": [
      "Done.\n"
     ]
    }
   ],
   "source": [
    "from visio_gptq.model import GPTQModel\n",
    "model = GPTQModel(model_name=\"anon8231489123/vicuna-13b-GPTQ-4bit-128g\", device=\"cuda\", wbits=4, groupsize=128)"
   ]
  },
  {
   "cell_type": "code",
   "execution_count": 2,
   "metadata": {},
   "outputs": [],
   "source": [
    "from visio_gptq.conversation import Conversation, SeparatorStyle\n",
    "\n",
    "default_conv = Conversation(\n",
    "    system=\"A chat between a curious human and an artificial intelligence assistant. \"\n",
    "           \"The assistant gives helpful, detailed, and polite answers to the human's questions.\",\n",
    "    roles=[\"Human\", \"Assistant\"],\n",
    "    messages=[\n",
    "        [\"Human\", \"Give three tips for staying healthy.\"],\n",
    "        [\"Assistant\",\n",
    "            \"Sure, here are three tips for staying healthy:\\n\"\n",
    "            \"1. Exercise regularly: Regular physical activity can help improve your overall health and wellbeing. \"\n",
    "            \"It can also help reduce your risk of chronic conditions such as obesity, diabetes, heart disease, \"\n",
    "            \"and certain cancers. Aim for at least 150 minutes of moderate-intensity aerobic exercise or \"\n",
    "            \"75 minutes of vigorous-intensity aerobic exercise per week, along with muscle-strengthening \"\n",
    "            \"activities at least two days per week.\\n\"\n",
    "            \"2. Eat a balanced diet: Eating a balanced diet that is rich in fruits, \"\n",
    "            \"vegetables, whole grains, lean proteins, and healthy fats can help support \"\n",
    "            \"your overall health. Try to limit your intake of processed and high-sugar foods, \"\n",
    "            \"and aim to drink plenty of water throughout the day.\\n\"\n",
    "            \"3. Get enough sleep: Getting enough quality sleep is essential for your physical \"\n",
    "            \"and mental health. Adults should aim for seven to nine hours of sleep per night. \"\n",
    "            \"Establish a regular sleep schedule and try to create a relaxing bedtime routine to \"\n",
    "            \"help improve the quality of your sleep.\"]\n",
    "    ],\n",
    "    offset=2,\n",
    "    sep_style=SeparatorStyle.SINGLE,\n",
    "    sep=\"###\",\n",
    ")"
   ]
  },
  {
   "cell_type": "code",
   "execution_count": 3,
   "metadata": {},
   "outputs": [
    {
     "name": "stdout",
     "output_type": "stream",
     "text": [
      "Black holes are incredibly dense and massive objects in space that have such a strong gravitational pull that nothing, not even light, can escape once it gets too close to the black hole.\n",
      "Black holes form when a massive star runs out of fuel and collapses in on itself. The immense amount of matter packed into a black hole is so dense that it creates an incredibly strong gravitational pull. This pull is so strong that if a person were to get too close to a black hole, they would be stretched and torn apart by the intense gravity.\n",
      "Black holes are classified based on their mass. The most common type of black hole is a stellar black hole, which forms when a massive star collapses at the end of its life. These black holes have a mass several times that of the sun and are typically about the size of a city. Supermassive black holes are the largest type of black hole and are found at the center of most galaxies. These black holes have a mass millions or billions of times that of the sun and are typically the size of a small galaxy.\n",
      "Black holes are incredibly difficult to study because they do not emit any light or other forms of radiation, making them invisible to telescopes. However, scientists can detect black holes by observing the effects of their gravity on nearby objects, such as stars or gas clouds.\n",
      "Overall, black holes are fascinating and mysterious objects that continue to puzzle scientists and inspire new research in the field of astrophysics.\n",
      "# "
     ]
    }
   ],
   "source": [
    "my_conv = default_conv.copy()\n",
    "\n",
    "def callbackFunc(s):\n",
    "    print(s, end=\" \", flush=True)\n",
    "my_conv = model.inference(prompt=\"Explain how do blackholes work?\", conversation=my_conv, temperature=0.0, stream_callback=callbackFunc)\n",
    "\n",
    "\n",
    "#print(my_conv.last_message)"
   ]
  }
 ],
 "metadata": {
  "kernelspec": {
   "display_name": "gptq",
   "language": "python",
   "name": "python3"
  },
  "language_info": {
   "codemirror_mode": {
    "name": "ipython",
    "version": 3
   },
   "file_extension": ".py",
   "mimetype": "text/x-python",
   "name": "python",
   "nbconvert_exporter": "python",
   "pygments_lexer": "ipython3",
   "version": "3.10.10"
  },
  "orig_nbformat": 4
 },
 "nbformat": 4,
 "nbformat_minor": 2
}
