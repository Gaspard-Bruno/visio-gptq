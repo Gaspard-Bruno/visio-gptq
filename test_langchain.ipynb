{
 "cells": [
  {
   "cell_type": "code",
   "execution_count": 1,
   "metadata": {},
   "outputs": [
    {
     "name": "stderr",
     "output_type": "stream",
     "text": [
      "/home/fred/mambaforge/envs/vicuna/lib/python3.10/site-packages/tqdm/auto.py:21: TqdmWarning: IProgress not found. Please update jupyter and ipywidgets. See https://ipywidgets.readthedocs.io/en/stable/user_install.html\n",
      "  from .autonotebook import tqdm as notebook_tqdm\n"
     ]
    },
    {
     "name": "stdout",
     "output_type": "stream",
     "text": [
      "Loading model ...\n"
     ]
    },
    {
     "name": "stderr",
     "output_type": "stream",
     "text": [
      "/home/fred/mambaforge/envs/vicuna/lib/python3.10/site-packages/safetensors/torch.py:99: UserWarning: TypedStorage is deprecated. It will be removed in the future and UntypedStorage will be the only storage class. This should only matter to you if you are using storages directly.  To access UntypedStorage directly, use tensor.untyped_storage() instead of tensor.storage()\n",
      "  with safe_open(filename, framework=\"pt\", device=device) as f:\n",
      "/home/fred/mambaforge/envs/vicuna/lib/python3.10/site-packages/torch/_utils.py:776: UserWarning: TypedStorage is deprecated. It will be removed in the future and UntypedStorage will be the only storage class. This should only matter to you if you are using storages directly.  To access UntypedStorage directly, use tensor.untyped_storage() instead of tensor.storage()\n",
      "  return self.fget.__get__(instance, owner)()\n",
      "/home/fred/mambaforge/envs/vicuna/lib/python3.10/site-packages/torch/storage.py:899: UserWarning: TypedStorage is deprecated. It will be removed in the future and UntypedStorage will be the only storage class. This should only matter to you if you are using storages directly.  To access UntypedStorage directly, use tensor.untyped_storage() instead of tensor.storage()\n",
      "  storage = cls(wrap_storage=untyped_storage)\n"
     ]
    },
    {
     "name": "stdout",
     "output_type": "stream",
     "text": [
      "Done.\n"
     ]
    }
   ],
   "source": [
    "from src.model import GPTQModel\n",
    "model = GPTQModel(model_name=\"anon8231489123/vicuna-13b-GPTQ-4bit-128g\", device=\"cuda\", wbits=4, groupsize=128)"
   ]
  },
  {
   "cell_type": "code",
   "execution_count": 34,
   "metadata": {},
   "outputs": [
    {
     "data": {
      "text/plain": [
       "\"Black holes are extremely dense and massive objects in space that have such a strong gravitational pull that nothing, not even light, can escape once it gets too close to the event horizon.\\nThe formation of black holes occurs when a massive star runs out of fuel and collapses under its own gravity. This collapse causes the star to become incredibly dense and hot, and the material inside the star is compressed to a point where it becomes a singularity, or a point of infinite density.\\nThe event horizon of a black hole is the boundary beyond which nothing can escape, not even light. Once an object crosses the event horizon, it is trapped by the black hole's gravitational pull and cannot escape.\\nBlack holes are classified based on their mass, with the most massive ones being supermassive black holes that are millions or billions of times more massive than the Sun. There are also smaller black holes that are only a few times more massive than the Sun, which are called stellar-mass black holes.\\nBlack holes do not emit any light or radiation, so they are invisible to us. However, they can be detected by the way they affect the objects around them, such as the stars and gas in their vicinity.\\nBlack holes are an important part of the universe and play a crucial role in the formation and evolution of galaxies. They are also a topic of ongoing research and study in the fields of astrophysics and cosmology.\""
      ]
     },
     "execution_count": 34,
     "metadata": {},
     "output_type": "execute_result"
    }
   ],
   "source": [
    "from src.conversation import Conversation, SeparatorStyle\n",
    "\n",
    "\n",
    "default_conv = Conversation(\n",
    "    system=\"A chat between a curious human and an artificial intelligence assistant. \"\n",
    "           \"The assistant gives helpful, detailed, and polite answers to the human's questions.\",\n",
    "    roles=[\"Human\", \"Assistant\"],\n",
    "    messages=[\n",
    "        [\"Human\", \"Give three tips for staying healthy.\"],\n",
    "        [\"Assistant\",\n",
    "            \"Sure, here are three tips for staying healthy:\\n\"\n",
    "            \"1. Exercise regularly: Regular physical activity can help improve your overall health and wellbeing. \"\n",
    "            \"It can also help reduce your risk of chronic conditions such as obesity, diabetes, heart disease, \"\n",
    "            \"and certain cancers. Aim for at least 150 minutes of moderate-intensity aerobic exercise or \"\n",
    "            \"75 minutes of vigorous-intensity aerobic exercise per week, along with muscle-strengthening \"\n",
    "            \"activities at least two days per week.\\n\"\n",
    "            \"2. Eat a balanced diet: Eating a balanced diet that is rich in fruits, \"\n",
    "            \"vegetables, whole grains, lean proteins, and healthy fats can help support \"\n",
    "            \"your overall health. Try to limit your intake of processed and high-sugar foods, \"\n",
    "            \"and aim to drink plenty of water throughout the day.\\n\"\n",
    "            \"3. Get enough sleep: Getting enough quality sleep is essential for your physical \"\n",
    "            \"and mental health. Adults should aim for seven to nine hours of sleep per night. \"\n",
    "            \"Establish a regular sleep schedule and try to create a relaxing bedtime routine to \"\n",
    "            \"help improve the quality of your sleep.\"]\n",
    "    ],\n",
    "    offset=2,\n",
    "    sep_style=SeparatorStyle.SINGLE,\n",
    "    sep=\"###\",\n",
    ")\n",
    "\n",
    "\n",
    "\n",
    "result = model.inference(prompt=\"How black holes work, detailed explanation please.\", conversation=default_conv)\n",
    "result.last_message"
   ]
  },
  {
   "cell_type": "code",
   "execution_count": 21,
   "metadata": {},
   "outputs": [],
   "source": [
    "from langchain.llms.base import LLM\n",
    "from typing import Optional, List\n",
    "\n",
    "class GPTQModelLLM(LLM):\n",
    "    model: GPTQModel\n",
    "    params: dict = {}\n",
    " \n",
    "    @property\n",
    "    def _llm_type(self) -> str:\n",
    "        return \"gptq_model_llm\"\n",
    "\n",
    "    def _call(self, prompt:str, stop: Optional[List[str]] = None) -> str:\n",
    "        conv = model.inference(prompt=prompt, **self.params)\n",
    "        if isinstance(conv, str):\n",
    "            return conv\n",
    "        return \"Error\""
   ]
  },
  {
   "cell_type": "code",
   "execution_count": 24,
   "metadata": {},
   "outputs": [],
   "source": [
    "from langchain.prompts import PromptTemplate\n",
    "from langchain.chains import LLMChain\n",
    "prompt = PromptTemplate(\n",
    "    input_variables=[\"human\", \"assistant\", \"question\"],\n",
    "    template=\"A chat between a curious {human} and an artificial intelligence {assistant}. \"\n",
    "           \"The assistant gives helpful, detailed, and polite answers to the {human}'s questions.\"\n",
    "           \"Example interaction: ###{human}: What is the meaning of life? ###{assistant}: The meaning of life is to give life meaning.\"\n",
    "           \"###{human}: {question}\")"
   ]
  },
  {
   "cell_type": "code",
   "execution_count": 32,
   "metadata": {},
   "outputs": [
    {
     "data": {
      "text/plain": [
       "''"
      ]
     },
     "execution_count": 32,
     "metadata": {},
     "output_type": "execute_result"
    }
   ],
   "source": [
    "llm = GPTQModelLLM(model=model, params={\"temperature\": 1.0})\n",
    "llm(prompt.format(human=\"Marco\", assistant=\"GPTQ\", question=\"How black holes work, detailed explanation please.\"))"
   ]
  }
 ],
 "metadata": {
  "kernelspec": {
   "display_name": "vicuna",
   "language": "python",
   "name": "python3"
  },
  "language_info": {
   "codemirror_mode": {
    "name": "ipython",
    "version": 3
   },
   "file_extension": ".py",
   "mimetype": "text/x-python",
   "name": "python",
   "nbconvert_exporter": "python",
   "pygments_lexer": "ipython3",
   "version": "3.10.10"
  },
  "orig_nbformat": 4
 },
 "nbformat": 4,
 "nbformat_minor": 2
}
